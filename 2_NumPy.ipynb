{
 "cells": [
  {
   "cell_type": "markdown",
   "id": "d9e8345a",
   "metadata": {},
   "source": [
    "## NumPy\n",
    "1. NumPy is the short form of Numerical Python\n",
    "2. NumPy is apackage that defines a multi-dimension array object and associates fast math funcions that operate on\n",
    "3. It also has functions for working in domain of linear algebra,fourier Transformaions and Matrices.\n",
    "4. In simple words it is the fundamental package of scientific computing in python."
   ]
  },
  {
   "cell_type": "markdown",
   "id": "a173ebe0",
   "metadata": {},
   "source": [
    "### Arrays\n",
    "1. An array is definde as a collection of items that are stored at contiguous memory locations.\n",
    "2. It is a container which can hold a fixed number of items and these items should be of the same type.\n",
    "3. A combination of array saves a lot of time. The array can reduce the overall size of the code.\n",
    "\n",
    "##### Advatages of array\n",
    "1. Numpy uses much less memory to store data.\n",
    "2. Numpy makes it extremely easy to perform mathematical operations on it.\n",
    "3. Used for the creation of n-dimensional array.\n",
    "4. Finding elements in Numpy array is easy.\n",
    "5. A list cannot directly handle mathematical operations, while array can.\n",
    "6. An Array consoumes less memory then a list.\n",
    "7. Using an array is faster than list.\n",
    "8. A list can store different datatypes, while you can't do that it an Array.\n"
   ]
  },
  {
   "cell_type": "markdown",
   "id": "5d987675",
   "metadata": {},
   "source": [
    "#### Arrays vs Lists\n",
    "1. A list cannot directly handle mathematical operations while array can.\n",
    "2. An array consumes less memory than a list\n",
    "3. Using an array is faster than list.\n",
    "4. A list can store different datatypes while you can't do that in a array\n",
    "5. A list is easier to modify since a list store each element individually it is easier to add and delets and element than an array does.\n",
    "6. In list one can have nested data with different size while you cannot do the same in array."
   ]
  },
  {
   "cell_type": "code",
   "execution_count": 1,
   "id": "f9fab792",
   "metadata": {},
   "outputs": [],
   "source": [
    "## if you add or multiplication two list it not perform mathmatical operations\n",
    "# but numpy array perform mathematical operations"
   ]
  },
  {
   "cell_type": "code",
   "execution_count": 2,
   "id": "e1726ed4",
   "metadata": {},
   "outputs": [
    {
     "name": "stdout",
     "output_type": "stream",
     "text": [
      "[20, 30, 40, 50]\n",
      "[30, 40, 20, 10]\n",
      "[20, 30, 40, 50, 30, 40, 20, 10]\n"
     ]
    }
   ],
   "source": [
    "## for list             {its result value are coma separate}\n",
    "\n",
    "l1 = [20,30,40,50]\n",
    "l2 = [30,40,20,10]\n",
    "print(l1)\n",
    "print(l2)\n",
    "print(l1 + l2)\n"
   ]
  },
  {
   "cell_type": "code",
   "execution_count": 3,
   "id": "0089b9a6",
   "metadata": {},
   "outputs": [
    {
     "name": "stdout",
     "output_type": "stream",
     "text": [
      "[20 30 40 50]\n",
      "[30 40 20 10]\n",
      "[50 70 60 60]\n"
     ]
    }
   ],
   "source": [
    "## same value for numpy arrar    {its result value are not coma separate}\n",
    "\n",
    "import numpy as np\n",
    "\n",
    "a = np.array([20,30,40,50])\n",
    "b = np.array([30,40,20,10])\n",
    "print(a)\n",
    "print(b)\n",
    "print(a+b)\n"
   ]
  },
  {
   "cell_type": "code",
   "execution_count": 4,
   "id": "705a9256",
   "metadata": {},
   "outputs": [
    {
     "name": "stdout",
     "output_type": "stream",
     "text": [
      "[20 30 40 50]\n",
      "[10]\n",
      "[200 300 400 500]\n"
     ]
    }
   ],
   "source": [
    "\n",
    "a = np.array([20,30,40,50])\n",
    "b = np.array([10])\n",
    "print(a)\n",
    "print(b)\n",
    "print(a * b)\n"
   ]
  },
  {
   "cell_type": "code",
   "execution_count": 5,
   "id": "49bd5314",
   "metadata": {},
   "outputs": [
    {
     "name": "stdout",
     "output_type": "stream",
     "text": [
      "[[30, 40, 20, 10], [20, 30, 10]]\n"
     ]
    }
   ],
   "source": [
    "l2 = [[30,40,20,10],[20,30,10]]\n",
    "print(l2)"
   ]
  },
  {
   "cell_type": "code",
   "execution_count": 6,
   "id": "ec03a510",
   "metadata": {},
   "outputs": [
    {
     "name": "stdout",
     "output_type": "stream",
     "text": [
      "[list([30, 40, 20, 10]) list([20, 30, 10])]\n"
     ]
    },
    {
     "name": "stderr",
     "output_type": "stream",
     "text": [
      "C:\\Users\\Prince\\AppData\\Local\\Temp\\ipykernel_11300\\3886460977.py:3: VisibleDeprecationWarning: Creating an ndarray from ragged nested sequences (which is a list-or-tuple of lists-or-tuples-or ndarrays with different lengths or shapes) is deprecated. If you meant to do this, you must specify 'dtype=object' when creating the ndarray.\n",
      "  b = np.array([[30,40,20,10],[20,30,10]])\n"
     ]
    }
   ],
   "source": [
    "# this code show an error because array size are not same\n",
    "\n",
    "b = np.array([[30,40,20,10],[20,30,10]])\n",
    "print(b)\n"
   ]
  },
  {
   "cell_type": "markdown",
   "id": "993c7556",
   "metadata": {},
   "source": [
    "### NumPy - creating arrays, slicing and attributes"
   ]
  },
  {
   "cell_type": "code",
   "execution_count": 7,
   "id": "f1567bdf",
   "metadata": {},
   "outputs": [],
   "source": [
    "import numpy as np"
   ]
  },
  {
   "cell_type": "code",
   "execution_count": 8,
   "id": "4867f687",
   "metadata": {},
   "outputs": [
    {
     "name": "stdout",
     "output_type": "stream",
     "text": [
      "[ 10  20  30  40 500]\n",
      "<class 'numpy.ndarray'>\n"
     ]
    }
   ],
   "source": [
    "arr = np.array([10,20,30,40,500])\n",
    "print(arr)\n",
    "print(type(arr))"
   ]
  },
  {
   "cell_type": "code",
   "execution_count": 9,
   "id": "ecd13e87",
   "metadata": {},
   "outputs": [
    {
     "name": "stdout",
     "output_type": "stream",
     "text": [
      "[[10 20 30 40]\n",
      " [20 30 50 60]\n",
      " [60 30 40 70]]\n",
      "<class 'numpy.ndarray'>\n"
     ]
    }
   ],
   "source": [
    "arr = np.array([[10,20,30,40],[20,30,50,60],[60,30,40,70]])\n",
    "print(arr)\n",
    "print(type(arr))"
   ]
  },
  {
   "cell_type": "code",
   "execution_count": 10,
   "id": "160e0bd7",
   "metadata": {},
   "outputs": [
    {
     "name": "stdout",
     "output_type": "stream",
     "text": [
      "[10 20 30]\n",
      "[ 10  20  30  40 500]\n",
      "[ 30  40 500]\n"
     ]
    }
   ],
   "source": [
    "\n",
    "arr = np.array([10,20,30,40,500])\n",
    "print(arr[0:3])\n",
    "print(arr[:])\n",
    "print(arr[2:])"
   ]
  },
  {
   "cell_type": "code",
   "execution_count": 11,
   "id": "05486788",
   "metadata": {},
   "outputs": [
    {
     "name": "stdout",
     "output_type": "stream",
     "text": [
      "[[10 20]\n",
      " [20 30]]\n",
      "[[10 20 30]\n",
      " [20 30 50]]\n"
     ]
    }
   ],
   "source": [
    "arr = np.array([[10,20,30,40],[20,30,50,60]])\n",
    "print(arr[0:2,0:2])\n",
    "print(arr[0:2,0:3])\n"
   ]
  },
  {
   "cell_type": "code",
   "execution_count": 38,
   "id": "59d04a8b",
   "metadata": {},
   "outputs": [
    {
     "name": "stdout",
     "output_type": "stream",
     "text": [
      "[10 20 30]\n",
      "[50 60]\n",
      "70\n"
     ]
    }
   ],
   "source": [
    "arr = np.array([[10,20,30,40],[20,30,50,60],[60,30,40,70]])\n",
    "print(arr[0,0:3])\n",
    "print(arr[1,2:])\n",
    "print(arr[2,3])\n"
   ]
  },
  {
   "cell_type": "markdown",
   "id": "78eee4c6",
   "metadata": {},
   "source": [
    "##### Attributes an array"
   ]
  },
  {
   "cell_type": "code",
   "execution_count": 39,
   "id": "b34c091d",
   "metadata": {},
   "outputs": [
    {
     "name": "stdout",
     "output_type": "stream",
     "text": [
      "(3, 4)\n"
     ]
    }
   ],
   "source": [
    "arr = np.array([[10,20,30,40],[20,30,50,60],[60,30,40,70]])\n",
    "print(np.shape(arr))\n"
   ]
  },
  {
   "cell_type": "code",
   "execution_count": 40,
   "id": "a6069180",
   "metadata": {},
   "outputs": [
    {
     "name": "stdout",
     "output_type": "stream",
     "text": [
      "12\n"
     ]
    }
   ],
   "source": [
    "arr = np.array([[10,20,30,40],[20,30,50,60],[60,30,40,70]])\n",
    "print(np.size(arr))\n"
   ]
  },
  {
   "cell_type": "code",
   "execution_count": 41,
   "id": "56a7a341",
   "metadata": {},
   "outputs": [
    {
     "name": "stdout",
     "output_type": "stream",
     "text": [
      "2\n"
     ]
    }
   ],
   "source": [
    "arr = np.array([[10,20,30,40],[20,30,50,60],[60,30,40,70]])\n",
    "print(np.ndim(arr))  # nd means data dimention\n",
    " "
   ]
  },
  {
   "cell_type": "code",
   "execution_count": 43,
   "id": "f4ce58ec",
   "metadata": {},
   "outputs": [
    {
     "name": "stdout",
     "output_type": "stream",
     "text": [
      "int32\n"
     ]
    }
   ],
   "source": [
    "arr = np.array([[10,20,30,40],[20,30,50,60],[60,30,40,70]])\n",
    "print(arr.dtype)\n"
   ]
  },
  {
   "cell_type": "markdown",
   "id": "42618a8e",
   "metadata": {},
   "source": [
    "### Functions an array\n",
    "1. arr.shape - Array dimensions\n",
    "2. len(arr) - Length of array\n",
    "3. b.ndim - Number of array dimensions\n",
    "4. np.size - Number of array elements\n",
    "5. b.dtype - Data type of array elements\n",
    "6. b.astype(int) - Convert on array to a different type\n"
   ]
  },
  {
   "cell_type": "code",
   "execution_count": 45,
   "id": "4058a5f8",
   "metadata": {},
   "outputs": [
    {
     "name": "stdout",
     "output_type": "stream",
     "text": [
      "[30 50 40 60 30]\n",
      "(5,)\n"
     ]
    }
   ],
   "source": [
    "import numpy as np\n",
    "\n",
    "a = [30,50,40,60,30]\n",
    "arr = np.array(a)\n",
    "print(arr)\n",
    "print(arr.shape)"
   ]
  },
  {
   "cell_type": "code",
   "execution_count": 58,
   "id": "0b16429d",
   "metadata": {},
   "outputs": [
    {
     "name": "stdout",
     "output_type": "stream",
     "text": [
      "[[30 50 40 60 30]\n",
      " [20 30 10 80 90]]\n",
      "(2, 5)\n"
     ]
    }
   ],
   "source": [
    "## shape - rows and columns\n",
    "\n",
    "a = [[30,50,40,60,30],[20,30,10,80,90]]\n",
    "arr = np.array(a)\n",
    "print(arr)\n",
    "print(arr.shape)     #{ The number of row are two and column are five }"
   ]
  },
  {
   "cell_type": "code",
   "execution_count": 48,
   "id": "e2b19576",
   "metadata": {},
   "outputs": [
    {
     "name": "stdout",
     "output_type": "stream",
     "text": [
      "2\n"
     ]
    }
   ],
   "source": [
    "a = [[30,50,40,60,30],[20,30,10,80,90]]\n",
    "arr = np.array(a)\n",
    "print(len(arr))\n"
   ]
  },
  {
   "cell_type": "code",
   "execution_count": 50,
   "id": "94676af1",
   "metadata": {},
   "outputs": [
    {
     "name": "stdout",
     "output_type": "stream",
     "text": [
      "10\n"
     ]
    }
   ],
   "source": [
    "a = [[30,50,40,60,30],[20,30,10,80,90]]\n",
    "print(np.size(arr))\n"
   ]
  },
  {
   "cell_type": "code",
   "execution_count": 51,
   "id": "10910108",
   "metadata": {},
   "outputs": [
    {
     "name": "stdout",
     "output_type": "stream",
     "text": [
      "<class 'numpy.ndarray'>\n"
     ]
    }
   ],
   "source": [
    "a = [[30,50,40,60,30],[20,30,10,80,90]]\n",
    "arr = np.array(a)\n",
    "print(type(arr))\n"
   ]
  },
  {
   "cell_type": "code",
   "execution_count": 52,
   "id": "0bd3f3db",
   "metadata": {},
   "outputs": [
    {
     "name": "stdout",
     "output_type": "stream",
     "text": [
      "int32\n"
     ]
    }
   ],
   "source": [
    "a = [[30,50,40,60,30],[20,30,10,80,90]]\n",
    "arr = np.array(a)\n",
    "print(arr.dtype)\n"
   ]
  },
  {
   "cell_type": "code",
   "execution_count": 56,
   "id": "04126f40",
   "metadata": {},
   "outputs": [
    {
     "name": "stdout",
     "output_type": "stream",
     "text": [
      "[[30 50 40 60 30]\n",
      " [20 30 10 80 90]]\n",
      "[[30. 50. 40. 60. 30.]\n",
      " [20. 30. 10. 80. 90.]]\n",
      "[['30' '50' '40' '60' '30']\n",
      " ['20' '30' '10' '80' '90']]\n"
     ]
    }
   ],
   "source": [
    "a = [[30,50,40,60,30],[20,30,10,80,90]]\n",
    "arr = np.array(a)\n",
    "print(arr)\n",
    "print(arr.astype(float))\n",
    "print(arr.astype(str))"
   ]
  },
  {
   "cell_type": "code",
   "execution_count": 57,
   "id": "e814b4d1",
   "metadata": {},
   "outputs": [
    {
     "name": "stdout",
     "output_type": "stream",
     "text": [
      "[[30.12 50.   40.   60.   30.  ]\n",
      " [20.   30.   10.   80.   90.  ]]\n",
      "[[30 50 40 60 30]\n",
      " [20 30 10 80 90]]\n"
     ]
    }
   ],
   "source": [
    "a = [[30.12,50,40,60,30],[20,30,10,80,90]]\n",
    "arr = np.array(a)\n",
    "print(arr)\n",
    "print(arr.astype(int))\n"
   ]
  },
  {
   "cell_type": "markdown",
   "id": "238f8ede",
   "metadata": {},
   "source": [
    "### Mathematical Operations and functions on arrays"
   ]
  },
  {
   "cell_type": "code",
   "execution_count": 3,
   "id": "48b90e60",
   "metadata": {},
   "outputs": [
    {
     "name": "stdout",
     "output_type": "stream",
     "text": [
      "[ 50  80  50 140 120]\n"
     ]
    }
   ],
   "source": [
    "import numpy as np\n",
    "\n",
    "arr1 = np.array([30,50,40,60,30])\n",
    "arr2 = np.array([20,30,10,80,90])\n",
    "print(arr1+arr2)\n"
   ]
  },
  {
   "cell_type": "code",
   "execution_count": 6,
   "id": "41f858e1",
   "metadata": {},
   "outputs": [
    {
     "name": "stdout",
     "output_type": "stream",
     "text": [
      "[ 50  80  50 140 120]\n"
     ]
    }
   ],
   "source": [
    "import numpy as np\n",
    "\n",
    "arr1 = np.array([30,50,40,60,30])\n",
    "arr2 = np.array([20,30,10,80,90])\n",
    "print(np.add(arr1,arr2))\n"
   ]
  },
  {
   "cell_type": "code",
   "execution_count": 8,
   "id": "e8e2b7ee",
   "metadata": {},
   "outputs": [
    {
     "name": "stdout",
     "output_type": "stream",
     "text": [
      "[[ 50  80]\n",
      " [ 50 140]]\n"
     ]
    }
   ],
   "source": [
    "import numpy as np\n",
    "\n",
    "arr1 = np.array([[30,50],[40,60]])\n",
    "arr2 = np.array([[20,30],[10,80]])\n",
    "print(arr1+arr2)\n"
   ]
  },
  {
   "cell_type": "code",
   "execution_count": 7,
   "id": "16a74ce5",
   "metadata": {},
   "outputs": [
    {
     "name": "stdout",
     "output_type": "stream",
     "text": [
      "[[ 50  80]\n",
      " [ 50 140]]\n"
     ]
    }
   ],
   "source": [
    "import numpy as np\n",
    "\n",
    "arr1 = np.array([[30,50],[40,60]])\n",
    "arr2 = np.array([[20,30],[10,80]])\n",
    "print(np.add(arr1,arr2))\n"
   ]
  },
  {
   "cell_type": "code",
   "execution_count": 9,
   "id": "64ffbac6",
   "metadata": {},
   "outputs": [
    {
     "name": "stdout",
     "output_type": "stream",
     "text": [
      "[[ 10  20]\n",
      " [ 30 -20]]\n"
     ]
    }
   ],
   "source": [
    "import numpy as np\n",
    "\n",
    "arr1 = np.array([[30,50],[40,60]])\n",
    "arr2 = np.array([[20,30],[10,80]])\n",
    "print(arr1-arr2)"
   ]
  },
  {
   "cell_type": "code",
   "execution_count": 11,
   "id": "da7e7b01",
   "metadata": {},
   "outputs": [
    {
     "name": "stdout",
     "output_type": "stream",
     "text": [
      "[[ 10  20]\n",
      " [ 30 -20]]\n"
     ]
    }
   ],
   "source": [
    "import numpy as np\n",
    "\n",
    "arr1 = np.array([[30,50],[40,60]])\n",
    "arr2 = np.array([[20,30],[10,80]])\n",
    "print(np.subtract(arr1,arr2))"
   ]
  },
  {
   "cell_type": "code",
   "execution_count": 12,
   "id": "b749bd0d",
   "metadata": {},
   "outputs": [
    {
     "name": "stdout",
     "output_type": "stream",
     "text": [
      "[[ 600 1500]\n",
      " [ 400 4800]]\n"
     ]
    }
   ],
   "source": [
    "import numpy as np\n",
    "\n",
    "arr1 = np.array([[30,50],[40,60]])\n",
    "arr2 = np.array([[20,30],[10,80]])\n",
    "print(arr1*arr2)"
   ]
  },
  {
   "cell_type": "code",
   "execution_count": 13,
   "id": "bef78632",
   "metadata": {},
   "outputs": [
    {
     "name": "stdout",
     "output_type": "stream",
     "text": [
      "[[ 600 1500]\n",
      " [ 400 4800]]\n"
     ]
    }
   ],
   "source": [
    "import numpy as np\n",
    "\n",
    "arr1 = np.array([[30,50],[40,60]])\n",
    "arr2 = np.array([[20,30],[10,80]])\n",
    "print(np.multiply(arr1,arr2))\n"
   ]
  },
  {
   "cell_type": "code",
   "execution_count": 14,
   "id": "4a352917",
   "metadata": {},
   "outputs": [
    {
     "name": "stdout",
     "output_type": "stream",
     "text": [
      "[[1.5        1.66666667]\n",
      " [4.         0.75      ]]\n"
     ]
    }
   ],
   "source": [
    "import numpy as np\n",
    "\n",
    "arr1 = np.array([[30,50],[40,60]])\n",
    "arr2 = np.array([[20,30],[10,80]])\n",
    "print(arr1/arr2)\n"
   ]
  },
  {
   "cell_type": "code",
   "execution_count": 15,
   "id": "2fd8358d",
   "metadata": {},
   "outputs": [
    {
     "name": "stdout",
     "output_type": "stream",
     "text": [
      "[[1.5        1.66666667]\n",
      " [4.         0.75      ]]\n"
     ]
    }
   ],
   "source": [
    "import numpy as np\n",
    "\n",
    "arr1 = np.array([[30,50],[40,60]])\n",
    "arr2 = np.array([[20,30],[10,80]])\n",
    "print(np.divide(arr1,arr2))\n"
   ]
  },
  {
   "cell_type": "code",
   "execution_count": 18,
   "id": "a0864f90",
   "metadata": {},
   "outputs": [
    {
     "name": "stdout",
     "output_type": "stream",
     "text": [
      "[[ 27 125  64 216]]\n"
     ]
    }
   ],
   "source": [
    "##  power\n",
    "\n",
    "import numpy as np\n",
    "\n",
    "arr1 = np.array([[3,5,4,6]])\n",
    "arr2 = np.array([3])\n",
    "\n",
    "print(np.power(arr1,arr2))    ##{ (3 power 3),(5 power 3),(4 power 3),(6 power 3)}\n"
   ]
  },
  {
   "cell_type": "code",
   "execution_count": 20,
   "id": "17138807",
   "metadata": {},
   "outputs": [
    {
     "name": "stdout",
     "output_type": "stream",
     "text": [
      "[5. 4. 2. 1.]\n"
     ]
    }
   ],
   "source": [
    "## sqrt\n",
    "\n",
    "import numpy as np\n",
    "\n",
    "arr1 = np.array([25,16,4,1])\n",
    "print(np.sqrt(arr1))\n"
   ]
  },
  {
   "cell_type": "markdown",
   "id": "7d29a416",
   "metadata": {},
   "source": [
    "#### Combining and Splitting Arrays"
   ]
  },
  {
   "cell_type": "code",
   "execution_count": 22,
   "id": "8f95e4e9",
   "metadata": {},
   "outputs": [
    {
     "name": "stdout",
     "output_type": "stream",
     "text": [
      "[30, 50, 40, 60, 30, 20, 30, 10, 80, 90]\n"
     ]
    }
   ],
   "source": [
    "## for list\n",
    "\n",
    "arr1 = [30,50,40,60,30]\n",
    "arr2 = [20,30,10,80,90]\n",
    "\n",
    "print(arr1+arr2)\n"
   ]
  },
  {
   "cell_type": "code",
   "execution_count": 23,
   "id": "4cac4d0a",
   "metadata": {},
   "outputs": [
    {
     "name": "stdout",
     "output_type": "stream",
     "text": [
      "[30 50 40 60 30 20 30 10 80 90]\n"
     ]
    }
   ],
   "source": [
    "## for array we use concatenate\n",
    "\n",
    "import numpy as np\n",
    "\n",
    "arr1 = np.array([30,50,40,60,30])\n",
    "arr2 = np.array([20,30,10,80,90])\n",
    "\n",
    "print(np.concatenate([arr1,arr2]))\n"
   ]
  },
  {
   "cell_type": "code",
   "execution_count": 26,
   "id": "bf9c22c2",
   "metadata": {},
   "outputs": [
    {
     "name": "stdout",
     "output_type": "stream",
     "text": [
      "[[30 50]\n",
      " [40 60]\n",
      " [20 30]\n",
      " [10 80]]\n"
     ]
    }
   ],
   "source": [
    "import numpy as np\n",
    "\n",
    "arr1 = np.array([[30,50],[40,60]])\n",
    "arr2 = np.array([[20,30],[10,80]])\n",
    "\n",
    "print(np.concatenate([arr1,arr2],axis = 0))   ## “axis 0” represents rows \n"
   ]
  },
  {
   "cell_type": "code",
   "execution_count": null,
   "id": "e45f7d99",
   "metadata": {},
   "outputs": [],
   "source": [
    "import numpy as np\n",
    "\n",
    "arr1 = np.array([[30,50],[40,60]])\n",
    "arr2 = np.array([[20,30],[10,80]])\n",
    "\n",
    "print(np.vstack([arr1,arr2]))   ## vertical concatenation ( vstack = vertical stack)"
   ]
  },
  {
   "cell_type": "code",
   "execution_count": 29,
   "id": "bbd26cd1",
   "metadata": {},
   "outputs": [
    {
     "name": "stdout",
     "output_type": "stream",
     "text": [
      "[[30 50 20 30]\n",
      " [40 60 10 80]]\n"
     ]
    }
   ],
   "source": [
    "import numpy as np\n",
    "\n",
    "arr1 = np.array([[30,50],[40,60]])\n",
    "arr2 = np.array([[20,30],[10,80]])\n",
    "\n",
    "print(np.concatenate([arr1,arr2],axis = 1))  ## “axis 1” represents columns\n"
   ]
  },
  {
   "cell_type": "code",
   "execution_count": 28,
   "id": "a0b7f620",
   "metadata": {},
   "outputs": [
    {
     "name": "stdout",
     "output_type": "stream",
     "text": [
      "[[30 50 20 30]\n",
      " [40 60 10 80]]\n"
     ]
    }
   ],
   "source": [
    "import numpy as np\n",
    "\n",
    "arr1 = np.array([[30,50],[40,60]])\n",
    "arr2 = np.array([[20,30],[10,80]])\n",
    "\n",
    "print(np.hstack([arr1,arr2]))   ## horizontal concatenation ( hstack = horizontal stack)\n"
   ]
  },
  {
   "cell_type": "code",
   "execution_count": 35,
   "id": "cdf97ce9",
   "metadata": {},
   "outputs": [
    {
     "name": "stdout",
     "output_type": "stream",
     "text": [
      "[array([30, 50]), array([40, 60]), array([30])]\n",
      "[40 60]\n",
      "[40 60]\n"
     ]
    }
   ],
   "source": [
    "import numpy as np\n",
    "\n",
    "arr1 = np.array([30,50,40,60,30])\n",
    "print(np.array_split(arr1,3))     # arr1 divide three part\n",
    "\n",
    "b = np.array_split(arr1,3)\n",
    "print(b[1])\n",
    "print(b[1])\n"
   ]
  },
  {
   "cell_type": "code",
   "execution_count": 38,
   "id": "5d644d08",
   "metadata": {},
   "outputs": [
    {
     "name": "stdout",
     "output_type": "stream",
     "text": [
      "[array([[30, 50]]), array([[40, 60]])]\n"
     ]
    }
   ],
   "source": [
    "import numpy as np\n",
    "\n",
    "arr1 = np.array([[30,50],[40,60]])\n",
    "b = np.array_split(arr1,2)\n",
    "print(b)\n"
   ]
  },
  {
   "cell_type": "code",
   "execution_count": 39,
   "id": "c2b66bb2",
   "metadata": {},
   "outputs": [
    {
     "name": "stdout",
     "output_type": "stream",
     "text": [
      "[array([[30, 50]]), array([[40, 60]]), array([], shape=(0, 2), dtype=int32)]\n"
     ]
    }
   ],
   "source": [
    "import numpy as np\n",
    "\n",
    "arr1 = np.array([[30,50],[40,60]])\n",
    "b = np.array_split(arr1,3)\n",
    "print(b)\n"
   ]
  },
  {
   "cell_type": "markdown",
   "id": "c1933390",
   "metadata": {},
   "source": [
    "### Adding and Removing elements in the arrays\n",
    "1. np.append - Append items to an array\n",
    "2. np.insert - Inserts items in an array\n",
    "3. np.delete - Delete items from an array"
   ]
  },
  {
   "cell_type": "code",
   "execution_count": 44,
   "id": "f0334c2a",
   "metadata": {},
   "outputs": [
    {
     "name": "stdout",
     "output_type": "stream",
     "text": [
      "[30 50 40 60 30 90]\n"
     ]
    }
   ],
   "source": [
    "## append\n",
    "\n",
    "import numpy as np\n",
    "\n",
    "\n",
    "arr1 = np.array([30,50,40,60,30])\n",
    "print(np.append(arr1,90))\n"
   ]
  },
  {
   "cell_type": "code",
   "execution_count": 46,
   "id": "e5d459b6",
   "metadata": {},
   "outputs": [
    {
     "name": "stdout",
     "output_type": "stream",
     "text": [
      "[30 50 40 60 30 90 70]\n"
     ]
    }
   ],
   "source": [
    "import numpy as np\n",
    "\n",
    "\n",
    "arr1 = np.array([30,50,40,60,30])\n",
    "print(np.append(arr1,[90,70]))\n"
   ]
  },
  {
   "cell_type": "code",
   "execution_count": 45,
   "id": "41e6768f",
   "metadata": {},
   "outputs": [
    {
     "name": "stdout",
     "output_type": "stream",
     "text": [
      "[30 50 40 60 80]\n"
     ]
    }
   ],
   "source": [
    "import numpy as np\n",
    "\n",
    "arr1 = np.array([[30,50],[40,60]])\n",
    "print(np.append(arr1,80))\n"
   ]
  },
  {
   "cell_type": "code",
   "execution_count": 47,
   "id": "1104e23b",
   "metadata": {},
   "outputs": [
    {
     "name": "stdout",
     "output_type": "stream",
     "text": [
      "[30 40 50 60 70 80]\n"
     ]
    }
   ],
   "source": [
    "## insert\n",
    "\n",
    "arr1 = np.array([30,40,60,70,80])\n",
    "print(np.insert(arr1,2,50))       # first array, second index, third value\n",
    " "
   ]
  },
  {
   "cell_type": "code",
   "execution_count": 49,
   "id": "720b0534",
   "metadata": {},
   "outputs": [
    {
     "name": "stdout",
     "output_type": "stream",
     "text": [
      "[30 50 51 55 40 60]\n"
     ]
    }
   ],
   "source": [
    "\n",
    "arr1 = np.array([[30,50],[40,60]])\n",
    "print(np.insert(arr1,2,[51,55])) \n"
   ]
  },
  {
   "cell_type": "code",
   "execution_count": 51,
   "id": "5f5600e4",
   "metadata": {},
   "outputs": [
    {
     "name": "stdout",
     "output_type": "stream",
     "text": [
      "[[30 50]\n",
      " [40 60]\n",
      " [51 55]]\n"
     ]
    }
   ],
   "source": [
    "\n",
    "arr1 = np.array([[30,50],[40,60]])\n",
    "print(np.insert(arr1,2,[51,55], axis = 0)) \n"
   ]
  },
  {
   "cell_type": "code",
   "execution_count": 50,
   "id": "7ea6f672",
   "metadata": {},
   "outputs": [
    {
     "name": "stdout",
     "output_type": "stream",
     "text": [
      "[[30 50 51]\n",
      " [40 60 55]]\n"
     ]
    }
   ],
   "source": [
    "\n",
    "arr1 = np.array([[30,50],[40,60]])\n",
    "print(np.insert(arr1,2,[51,55], axis = 1)) \n"
   ]
  },
  {
   "cell_type": "code",
   "execution_count": 53,
   "id": "07b2ff5f",
   "metadata": {},
   "outputs": [
    {
     "name": "stdout",
     "output_type": "stream",
     "text": [
      "[[30 50]\n",
      " [40 60]\n",
      " [55 55]]\n"
     ]
    }
   ],
   "source": [
    "\n",
    "arr1 = np.array([[30,50],[40,60]])\n",
    "print(np.insert(arr1,2,[55], axis = 0))  ## If value is single\n"
   ]
  },
  {
   "cell_type": "code",
   "execution_count": 54,
   "id": "2bd7a76b",
   "metadata": {},
   "outputs": [
    {
     "name": "stdout",
     "output_type": "stream",
     "text": [
      "[[30 50]\n",
      " [55 55]\n",
      " [40 60]]\n"
     ]
    }
   ],
   "source": [
    "\n",
    "arr1 = np.array([[30,50],[40,60]])\n",
    "print(np.insert(arr1,1,[55], axis = 0))  ## If value is single\n"
   ]
  },
  {
   "cell_type": "code",
   "execution_count": 56,
   "id": "8041c41b",
   "metadata": {},
   "outputs": [
    {
     "name": "stdout",
     "output_type": "stream",
     "text": [
      "[[30 50]\n",
      " [55 55]\n",
      " [40 60]\n",
      " [55 55]]\n"
     ]
    }
   ],
   "source": [
    "\n",
    "arr1 = np.array([[30,50],[40,60]])\n",
    "print(np.insert(arr1,[1,2],[55], axis = 0))  ## If value is single\n"
   ]
  },
  {
   "cell_type": "code",
   "execution_count": 58,
   "id": "1898cae9",
   "metadata": {},
   "outputs": [
    {
     "name": "stdout",
     "output_type": "stream",
     "text": [
      "[30 40 60 70 80]\n",
      "[30 60 70 80]\n"
     ]
    }
   ],
   "source": [
    "## delete\n",
    "\n",
    "arr1 = np.array([30,40,60,70,80])\n",
    "print(arr1)\n",
    "print(np.delete(arr1,1))\n"
   ]
  },
  {
   "cell_type": "code",
   "execution_count": 59,
   "id": "799faaca",
   "metadata": {},
   "outputs": [
    {
     "name": "stdout",
     "output_type": "stream",
     "text": [
      "[30 40 60 70 80]\n",
      "[30 70 80]\n"
     ]
    }
   ],
   "source": [
    "\n",
    "arr1 = np.array([30,40,60,70,80])\n",
    "print(arr1)\n",
    "print(np.delete(arr1,[1,2]))\n"
   ]
  },
  {
   "cell_type": "code",
   "execution_count": 60,
   "id": "b06b8ff5",
   "metadata": {},
   "outputs": [
    {
     "name": "stdout",
     "output_type": "stream",
     "text": [
      "[[30 50]\n",
      " [40 60]]\n",
      "\n",
      "\n",
      "[30 40 60]\n"
     ]
    }
   ],
   "source": [
    "\n",
    "arr1 = np.array([[30,50],[40,60]])\n",
    "print(arr1)\n",
    "print('\\n')\n",
    "print(np.delete(arr1,1))\n"
   ]
  },
  {
   "cell_type": "code",
   "execution_count": 61,
   "id": "d4eeccac",
   "metadata": {},
   "outputs": [
    {
     "name": "stdout",
     "output_type": "stream",
     "text": [
      "[[30 50]\n",
      " [40 60]]\n",
      "\n",
      "\n",
      "[[30 50]]\n"
     ]
    }
   ],
   "source": [
    "\n",
    "arr1 = np.array([[30,50],[40,60]])\n",
    "print(arr1)\n",
    "print('\\n')\n",
    "print(np.delete(arr1,1, axis = 0))\n"
   ]
  },
  {
   "cell_type": "code",
   "execution_count": 62,
   "id": "42f3fa60",
   "metadata": {},
   "outputs": [
    {
     "name": "stdout",
     "output_type": "stream",
     "text": [
      "[[30 50]\n",
      " [40 60]]\n",
      "\n",
      "\n",
      "[[40 60]]\n"
     ]
    }
   ],
   "source": [
    "\n",
    "arr1 = np.array([[30,50],[40,60]])\n",
    "print(arr1)\n",
    "print('\\n')\n",
    "print(np.delete(arr1,0, axis = 0))\n"
   ]
  },
  {
   "cell_type": "code",
   "execution_count": 64,
   "id": "9e106cea",
   "metadata": {},
   "outputs": [
    {
     "name": "stdout",
     "output_type": "stream",
     "text": [
      "[[30 50]\n",
      " [40 60]]\n",
      "\n",
      "\n",
      "[[50]\n",
      " [60]]\n"
     ]
    }
   ],
   "source": [
    "\n",
    "arr1 = np.array([[30,50],[40,60]])\n",
    "print(arr1)\n",
    "print('\\n')\n",
    "print(np.delete(arr1,0, axis = 1))\n"
   ]
  },
  {
   "cell_type": "code",
   "execution_count": 65,
   "id": "665ff49e",
   "metadata": {},
   "outputs": [
    {
     "name": "stdout",
     "output_type": "stream",
     "text": [
      "[[30 50]\n",
      " [40 60]]\n",
      "\n",
      "\n",
      "[[30]\n",
      " [40]]\n"
     ]
    }
   ],
   "source": [
    "\n",
    "arr1 = np.array([[30,50],[40,60]])\n",
    "print(arr1)\n",
    "print('\\n')\n",
    "print(np.delete(arr1,1, axis = 1))\n"
   ]
  },
  {
   "cell_type": "markdown",
   "id": "c448eb48",
   "metadata": {},
   "source": [
    "### Sort, filter and Search"
   ]
  },
  {
   "cell_type": "code",
   "execution_count": 66,
   "id": "4e310c16",
   "metadata": {},
   "outputs": [
    {
     "name": "stdout",
     "output_type": "stream",
     "text": [
      "[ 5  7 10 20 30 50 70 70]\n"
     ]
    }
   ],
   "source": [
    "## sort\n",
    "\n",
    "arr1 = np.array([50,5,20,70,10,70,30,7])\n",
    "print(np.sort(arr1))\n"
   ]
  },
  {
   "cell_type": "code",
   "execution_count": 5,
   "id": "6e5cc9de",
   "metadata": {},
   "outputs": [
    {
     "name": "stdout",
     "output_type": "stream",
     "text": [
      "(array([1], dtype=int64),)\n"
     ]
    }
   ],
   "source": [
    "# search\n",
    "\n",
    "import numpy as np\n",
    "\n",
    "arr1 = np.array([50,5,20,70,10,70,30,7])\n",
    "a = np.where(arr1 == 5)  # index of 5\n",
    "print(a)\n"
   ]
  },
  {
   "cell_type": "code",
   "execution_count": 7,
   "id": "7d811d6e",
   "metadata": {},
   "outputs": [
    {
     "name": "stdout",
     "output_type": "stream",
     "text": [
      "(array([0, 2, 3, 4, 5, 6], dtype=int64),)\n"
     ]
    }
   ],
   "source": [
    "# search\n",
    "\n",
    "import numpy as np\n",
    "\n",
    "arr1 = np.array([50,5,20,70,10,70,30,7])\n",
    "a = np.where(arr1 % 2 == 0)  # find the index which is divide 2\n",
    "print(a)\n"
   ]
  },
  {
   "cell_type": "code",
   "execution_count": 12,
   "id": "5158c830",
   "metadata": {},
   "outputs": [
    {
     "name": "stdout",
     "output_type": "stream",
     "text": [
      "3\n"
     ]
    }
   ],
   "source": [
    "# another way of search (it find the index of sorted value)\n",
    "\n",
    "import numpy as np\n",
    "\n",
    "arr1 = np.array([1,2,3,4,5,6])\n",
    "a = np.searchsorted(arr1,4)\n",
    "print(a)\n"
   ]
  },
  {
   "cell_type": "code",
   "execution_count": 14,
   "id": "1ec77e34",
   "metadata": {},
   "outputs": [
    {
     "name": "stdout",
     "output_type": "stream",
     "text": [
      "[50 20 30]\n"
     ]
    }
   ],
   "source": [
    "## filter\n",
    "\n",
    "import numpy as np\n",
    "\n",
    "arr = np.array([50,20,70,10,70,30])\n",
    "\n",
    "filte = [True, True, False, False, False, True]\n",
    "new_array = arr[filte]\n",
    "print(new_array)\n"
   ]
  },
  {
   "cell_type": "code",
   "execution_count": 15,
   "id": "0044dbf3",
   "metadata": {},
   "outputs": [
    {
     "name": "stdout",
     "output_type": "stream",
     "text": [
      "[50 70 70]\n"
     ]
    }
   ],
   "source": [
    "## filter\n",
    "\n",
    "import numpy as np\n",
    "\n",
    "arr = np.array([50,20,70,10,70,30])\n",
    "\n",
    "filte = arr>45\n",
    "\n",
    "new_array = arr[filte]\n",
    "print(new_array)\n"
   ]
  },
  {
   "cell_type": "code",
   "execution_count": 19,
   "id": "9af86661",
   "metadata": {},
   "outputs": [
    {
     "name": "stdout",
     "output_type": "stream",
     "text": [
      "[50 20 70 10 70 30]\n"
     ]
    }
   ],
   "source": [
    "## filter\n",
    "\n",
    "import numpy as np\n",
    "\n",
    "arr = np.array([17,50,20,5,70,10,70,30])\n",
    "\n",
    "filte = (arr % 2 == 0)\n",
    "\n",
    "new_array = arr[filte]\n",
    "print(new_array)\n"
   ]
  },
  {
   "cell_type": "markdown",
   "id": "25ad7944",
   "metadata": {},
   "source": [
    "### Aggregating functions in NumPy"
   ]
  },
  {
   "cell_type": "code",
   "execution_count": 20,
   "id": "bfca7a99",
   "metadata": {},
   "outputs": [
    {
     "name": "stdout",
     "output_type": "stream",
     "text": [
      "272\n"
     ]
    }
   ],
   "source": [
    "import numpy as np\n",
    "\n",
    "arr = np.array([17,50,20,5,70,10,70,30])\n",
    "print(np.sum(arr))\n"
   ]
  },
  {
   "cell_type": "code",
   "execution_count": 21,
   "id": "547c959b",
   "metadata": {},
   "outputs": [
    {
     "name": "stdout",
     "output_type": "stream",
     "text": [
      "5\n"
     ]
    }
   ],
   "source": [
    "import numpy as np\n",
    "\n",
    "arr = np.array([17,50,20,5,70,10,70,30])\n",
    "print(np.min(arr))\n"
   ]
  },
  {
   "cell_type": "code",
   "execution_count": 22,
   "id": "26667446",
   "metadata": {},
   "outputs": [
    {
     "name": "stdout",
     "output_type": "stream",
     "text": [
      "70\n"
     ]
    }
   ],
   "source": [
    "import numpy as np\n",
    "\n",
    "arr = np.array([17,50,20,5,70,10,70,30])\n",
    "print(np.max(arr))\n"
   ]
  },
  {
   "cell_type": "code",
   "execution_count": 23,
   "id": "43012b9f",
   "metadata": {},
   "outputs": [
    {
     "name": "stdout",
     "output_type": "stream",
     "text": [
      "8\n"
     ]
    }
   ],
   "source": [
    "import numpy as np\n",
    "\n",
    "arr = np.array([17,50,20,5,70,10,70,30])\n",
    "print(np.size(arr))\n"
   ]
  },
  {
   "cell_type": "code",
   "execution_count": 24,
   "id": "2b3f895c",
   "metadata": {},
   "outputs": [
    {
     "name": "stdout",
     "output_type": "stream",
     "text": [
      "34.0\n"
     ]
    }
   ],
   "source": [
    "import numpy as np\n",
    "\n",
    "arr = np.array([17,50,20,5,70,10,70,30])\n",
    "print(np.mean(arr))\n"
   ]
  },
  {
   "cell_type": "code",
   "execution_count": 26,
   "id": "cc821955",
   "metadata": {},
   "outputs": [
    {
     "name": "stdout",
     "output_type": "stream",
     "text": [
      "[ 10  60  80  85 155 165 235 265]\n"
     ]
    }
   ],
   "source": [
    "import numpy as np\n",
    "\n",
    "arr = np.array([10,50,20,5,70,10,70,30])\n",
    "print(np.cumsum(arr))\n",
    "\n",
    "## Cumulative sum, is a sequence of partial sums of a given data set\n",
    "## [{10+50=60} {60+20=80} {80+85=155}...............]"
   ]
  },
  {
   "cell_type": "code",
   "execution_count": 27,
   "id": "0ac57631",
   "metadata": {},
   "outputs": [
    {
     "name": "stdout",
     "output_type": "stream",
     "text": [
      "[         10         500       10000       50000     3500000    35000000\n",
      " -1844967296   485555968]\n"
     ]
    }
   ],
   "source": [
    "import numpy as np\n",
    "\n",
    "arr = np.array([10,50,20,5,70,10,70,30])\n",
    "print(np.cumprod(arr))\n"
   ]
  },
  {
   "cell_type": "code",
   "execution_count": 36,
   "id": "0a3a8b65",
   "metadata": {},
   "outputs": [
    {
     "name": "stdout",
     "output_type": "stream",
     "text": [
      "[100 150 199 200 250 180] \n",
      " [10 30 25 15 18 20]\n",
      "\n",
      "[[ 100  150  199  200  250  180]\n",
      " [1000 4500 4975 3000 4500 3600]]\n",
      "\n",
      "[1000 4500 4975 3000 4500 3600]\n",
      "Total sum is - 21575\n"
     ]
    }
   ],
   "source": [
    "a = [100,150,199,200,250,180]\n",
    "b = [10,30,25,15,18,20]\n",
    "\n",
    "price = np.array(a)\n",
    "quantity = np.array(b)\n",
    "\n",
    "print(price, '\\n', quantity)\n",
    "print()\n",
    "c = np.cumprod([price,quantity], axis = 0)\n",
    "print(c)\n",
    "print()\n",
    "\n",
    "print(c[1])\n",
    "print(\"Total sum is -\",c[1].sum())\n"
   ]
  },
  {
   "cell_type": "markdown",
   "id": "fa3b95b3",
   "metadata": {},
   "source": [
    "### Statistical funcions NumPy"
   ]
  },
  {
   "cell_type": "code",
   "execution_count": 44,
   "id": "8d46b486",
   "metadata": {},
   "outputs": [
    {
     "name": "stdout",
     "output_type": "stream",
     "text": [
      "197.5\n",
      "\n",
      "185.0\n",
      "\n",
      "130\n",
      "\n",
      "58.0409338312195\n",
      "\n",
      "3368.75\n"
     ]
    }
   ],
   "source": [
    "import numpy as np\n",
    "import statistics as sta\n",
    "\n",
    "baked_food = [200,250,150,130,280,270,170,130]\n",
    "arr = np.array(baked_food)\n",
    "\n",
    "print(np.mean(baked_food))\n",
    "print()\n",
    "print(np.median(baked_food))\n",
    "print()\n",
    "print(sta.mode(baked_food))\n",
    "print()\n",
    "print(np.std(baked_food))    # we use standar deviation for quality control\n",
    "print()\n",
    "print(np.var(baked_food))\n"
   ]
  },
  {
   "cell_type": "code",
   "execution_count": 45,
   "id": "c8b33445",
   "metadata": {},
   "outputs": [
    {
     "name": "stdout",
     "output_type": "stream",
     "text": [
      "[[1.         0.74170034]\n",
      " [0.74170034 1.        ]]\n"
     ]
    }
   ],
   "source": [
    "## Correlation Coefficient\n",
    "\n",
    "# -1 represent inversely proportional relationship\n",
    "# 1 represent porportional relationship\n",
    "# 0 means no relationship\n",
    "\n",
    "tobacco_consumption = [30,40,20,10,50,25]\n",
    "deaths = [150,160,130,70,140,135]\n",
    "\n",
    "print(np.corrcoef([tobacco_consumption,deaths]))\n"
   ]
  },
  {
   "cell_type": "code",
   "execution_count": 47,
   "id": "5400e8ff",
   "metadata": {},
   "outputs": [
    {
     "name": "stdout",
     "output_type": "stream",
     "text": [
      "[[ 1.         -0.66621445]\n",
      " [-0.66621445  1.        ]]\n"
     ]
    }
   ],
   "source": [
    "## negative relationship\n",
    "\n",
    "price = [300,100,350,150,200]\n",
    "sales = [10,20,7,17,3]\n",
    "\n",
    "print(np.corrcoef(price,sales))\n"
   ]
  },
  {
   "cell_type": "code",
   "execution_count": null,
   "id": "ac1dccf5",
   "metadata": {},
   "outputs": [],
   "source": []
  },
  {
   "cell_type": "code",
   "execution_count": null,
   "id": "01bf0c35",
   "metadata": {},
   "outputs": [],
   "source": []
  },
  {
   "cell_type": "code",
   "execution_count": null,
   "id": "9054fc29",
   "metadata": {},
   "outputs": [],
   "source": []
  },
  {
   "cell_type": "code",
   "execution_count": null,
   "id": "61db6f07",
   "metadata": {},
   "outputs": [],
   "source": []
  },
  {
   "cell_type": "code",
   "execution_count": null,
   "id": "4eca8a1f",
   "metadata": {},
   "outputs": [],
   "source": []
  },
  {
   "cell_type": "code",
   "execution_count": null,
   "id": "339ad746",
   "metadata": {},
   "outputs": [],
   "source": []
  },
  {
   "cell_type": "code",
   "execution_count": null,
   "id": "214b005e",
   "metadata": {},
   "outputs": [],
   "source": []
  },
  {
   "cell_type": "code",
   "execution_count": null,
   "id": "a1132ec6",
   "metadata": {},
   "outputs": [],
   "source": []
  },
  {
   "cell_type": "code",
   "execution_count": null,
   "id": "484785d2",
   "metadata": {},
   "outputs": [],
   "source": []
  },
  {
   "cell_type": "code",
   "execution_count": null,
   "id": "a0907569",
   "metadata": {},
   "outputs": [],
   "source": []
  },
  {
   "cell_type": "code",
   "execution_count": null,
   "id": "e275f7f4",
   "metadata": {},
   "outputs": [],
   "source": []
  },
  {
   "cell_type": "code",
   "execution_count": null,
   "id": "587ba926",
   "metadata": {},
   "outputs": [],
   "source": []
  },
  {
   "cell_type": "code",
   "execution_count": null,
   "id": "daa75aff",
   "metadata": {},
   "outputs": [],
   "source": []
  },
  {
   "cell_type": "code",
   "execution_count": null,
   "id": "a350b116",
   "metadata": {},
   "outputs": [],
   "source": []
  }
 ],
 "metadata": {
  "kernelspec": {
   "display_name": "Python 3 (ipykernel)",
   "language": "python",
   "name": "python3"
  },
  "language_info": {
   "codemirror_mode": {
    "name": "ipython",
    "version": 3
   },
   "file_extension": ".py",
   "mimetype": "text/x-python",
   "name": "python",
   "nbconvert_exporter": "python",
   "pygments_lexer": "ipython3",
   "version": "3.10.9"
  }
 },
 "nbformat": 4,
 "nbformat_minor": 5
}
